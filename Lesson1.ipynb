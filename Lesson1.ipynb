{
  "nbformat": 4,
  "nbformat_minor": 0,
  "metadata": {
    "colab": {
      "provenance": [],
      "authorship_tag": "ABX9TyPM5TILwscLmJ9YWacOaCrP"
    },
    "kernelspec": {
      "name": "python3",
      "display_name": "Python 3"
    },
    "language_info": {
      "name": "python"
    }
  },
  "cells": [
    {
      "cell_type": "markdown",
      "source": [
        "# Умножение на 3"
      ],
      "metadata": {
        "id": "5KN2B0KevxZX"
      }
    },
    {
      "cell_type": "code",
      "execution_count": null,
      "metadata": {
        "id": "YET5K0kXIaeN"
      },
      "outputs": [],
      "source": [
        "from keras.layers import Dense\n",
        "from keras.models import Sequential\n",
        "\n",
        "model = Sequential([\n",
        "    Dense(1, input_shape=(1, ), activation='linear')\n",
        "])"
      ]
    },
    {
      "cell_type": "code",
      "source": [
        "model.summary()"
      ],
      "metadata": {
        "colab": {
          "base_uri": "https://localhost:8080/"
        },
        "id": "kRCeDYQOJmkw",
        "outputId": "d8dbab9e-0c2e-406d-fc2f-09de9a83de20"
      },
      "execution_count": null,
      "outputs": [
        {
          "output_type": "stream",
          "name": "stdout",
          "text": [
            "Model: \"sequential_5\"\n",
            "_________________________________________________________________\n",
            " Layer (type)                Output Shape              Param #   \n",
            "=================================================================\n",
            " dense_6 (Dense)             (None, 1)                 2         \n",
            "                                                                 \n",
            "=================================================================\n",
            "Total params: 2\n",
            "Trainable params: 2\n",
            "Non-trainable params: 0\n",
            "_________________________________________________________________\n"
          ]
        }
      ]
    },
    {
      "cell_type": "code",
      "source": [
        "model.get_weights()"
      ],
      "metadata": {
        "colab": {
          "base_uri": "https://localhost:8080/"
        },
        "id": "j-JkbNWlKHPA",
        "outputId": "55cad6f4-10d3-47af-9907-26a76a4ad01e"
      },
      "execution_count": null,
      "outputs": [
        {
          "output_type": "execute_result",
          "data": {
            "text/plain": [
              "[array([[0.37373078]], dtype=float32), array([0.], dtype=float32)]"
            ]
          },
          "metadata": {},
          "execution_count": 34
        }
      ]
    },
    {
      "cell_type": "code",
      "source": [
        "#создаем датасет\n",
        "import numpy as np\n",
        "\n",
        "x = np.array([[1], [3], [2], [7], [9], [10], [13]])\n",
        "y = np.array([[3], [9], [6], [21], [27], [30], [39]])"
      ],
      "metadata": {
        "id": "z9YvYyTYPaRA"
      },
      "execution_count": null,
      "outputs": []
    },
    {
      "cell_type": "code",
      "source": [
        "model.compile(optimizer='sgd', loss='mse', metrics='mae')"
      ],
      "metadata": {
        "id": "AlLXXceZQum3"
      },
      "execution_count": null,
      "outputs": []
    },
    {
      "cell_type": "code",
      "source": [
        "model.fit(x, y, epochs=100)"
      ],
      "metadata": {
        "id": "volZd0IIsS5T"
      },
      "execution_count": null,
      "outputs": []
    },
    {
      "cell_type": "code",
      "source": [
        "model.predict([[8], [9], [15]])"
      ],
      "metadata": {
        "colab": {
          "base_uri": "https://localhost:8080/"
        },
        "id": "LV-wtShYsccS",
        "outputId": "8c31f327-0edd-4cab-a810-97c366750571"
      },
      "execution_count": null,
      "outputs": [
        {
          "output_type": "stream",
          "name": "stderr",
          "text": [
            "WARNING:tensorflow:5 out of the last 6 calls to <function Model.make_predict_function.<locals>.predict_function at 0x7f3b5655f910> triggered tf.function retracing. Tracing is expensive and the excessive number of tracings could be due to (1) creating @tf.function repeatedly in a loop, (2) passing tensors with different shapes, (3) passing Python objects instead of tensors. For (1), please define your @tf.function outside of the loop. For (2), @tf.function has reduce_retracing=True option that can avoid unnecessary retracing. For (3), please refer to https://www.tensorflow.org/guide/function#controlling_retracing and https://www.tensorflow.org/api_docs/python/tf/function for  more details.\n"
          ]
        },
        {
          "output_type": "stream",
          "name": "stdout",
          "text": [
            "1/1 [==============================] - 0s 86ms/step\n"
          ]
        },
        {
          "output_type": "execute_result",
          "data": {
            "text/plain": [
              "array([[24.01074],\n",
              "       [27.00125],\n",
              "       [44.94431]], dtype=float32)"
            ]
          },
          "metadata": {},
          "execution_count": 44
        }
      ]
    },
    {
      "cell_type": "markdown",
      "source": [
        "# Сложение двух чисел"
      ],
      "metadata": {
        "id": "KbDkuOn2v6DJ"
      }
    },
    {
      "cell_type": "code",
      "source": [
        "X1 = np.random.randint(1, 10, size=50)\n",
        "X2 = np.random.randint(1, 10, size=50)\n",
        "\n",
        "y = X1 + X2"
      ],
      "metadata": {
        "id": "e1HPuNk5tp87"
      },
      "execution_count": null,
      "outputs": []
    },
    {
      "cell_type": "code",
      "source": [
        "X = np.vstack([X1, X2]).T\n",
        "X"
      ],
      "metadata": {
        "colab": {
          "base_uri": "https://localhost:8080/"
        },
        "id": "h9Vln8j5Fvbe",
        "outputId": "600a9686-3765-4510-e258-1ad5ff4c26ec"
      },
      "execution_count": null,
      "outputs": [
        {
          "output_type": "execute_result",
          "data": {
            "text/plain": [
              "array([[1, 6],\n",
              "       [4, 1],\n",
              "       [2, 9],\n",
              "       [6, 9],\n",
              "       [8, 9],\n",
              "       [6, 9],\n",
              "       [9, 2],\n",
              "       [7, 1],\n",
              "       [1, 1],\n",
              "       [6, 6],\n",
              "       [1, 7],\n",
              "       [4, 8],\n",
              "       [2, 4],\n",
              "       [4, 4],\n",
              "       [2, 3],\n",
              "       [2, 8],\n",
              "       [2, 6],\n",
              "       [9, 1],\n",
              "       [2, 9],\n",
              "       [1, 4],\n",
              "       [8, 4],\n",
              "       [7, 4],\n",
              "       [9, 6],\n",
              "       [8, 7],\n",
              "       [5, 8],\n",
              "       [4, 4],\n",
              "       [7, 7],\n",
              "       [7, 7],\n",
              "       [3, 1],\n",
              "       [4, 7],\n",
              "       [6, 8],\n",
              "       [5, 6],\n",
              "       [1, 5],\n",
              "       [4, 8],\n",
              "       [2, 2],\n",
              "       [4, 6],\n",
              "       [4, 9],\n",
              "       [1, 4],\n",
              "       [9, 4],\n",
              "       [7, 5],\n",
              "       [1, 6],\n",
              "       [6, 7],\n",
              "       [7, 2],\n",
              "       [7, 3],\n",
              "       [9, 4],\n",
              "       [2, 3],\n",
              "       [4, 2],\n",
              "       [8, 2],\n",
              "       [4, 3],\n",
              "       [8, 8]])"
            ]
          },
          "metadata": {},
          "execution_count": 59
        }
      ]
    },
    {
      "cell_type": "code",
      "source": [
        "y = y[None]\n",
        "y = y.T\n",
        "y"
      ],
      "metadata": {
        "colab": {
          "base_uri": "https://localhost:8080/"
        },
        "id": "ZpcXhuuiF-cG",
        "outputId": "f0b94f0a-eeb0-4d60-c39d-f477d8f95c5f"
      },
      "execution_count": null,
      "outputs": [
        {
          "output_type": "execute_result",
          "data": {
            "text/plain": [
              "array([[ 7],\n",
              "       [ 5],\n",
              "       [11],\n",
              "       [15],\n",
              "       [17],\n",
              "       [15],\n",
              "       [11],\n",
              "       [ 8],\n",
              "       [ 2],\n",
              "       [12],\n",
              "       [ 8],\n",
              "       [12],\n",
              "       [ 6],\n",
              "       [ 8],\n",
              "       [ 5],\n",
              "       [10],\n",
              "       [ 8],\n",
              "       [10],\n",
              "       [11],\n",
              "       [ 5],\n",
              "       [12],\n",
              "       [11],\n",
              "       [15],\n",
              "       [15],\n",
              "       [13],\n",
              "       [ 8],\n",
              "       [14],\n",
              "       [14],\n",
              "       [ 4],\n",
              "       [11],\n",
              "       [14],\n",
              "       [11],\n",
              "       [ 6],\n",
              "       [12],\n",
              "       [ 4],\n",
              "       [10],\n",
              "       [13],\n",
              "       [ 5],\n",
              "       [13],\n",
              "       [12],\n",
              "       [ 7],\n",
              "       [13],\n",
              "       [ 9],\n",
              "       [10],\n",
              "       [13],\n",
              "       [ 5],\n",
              "       [ 6],\n",
              "       [10],\n",
              "       [ 7],\n",
              "       [16]])"
            ]
          },
          "metadata": {},
          "execution_count": 60
        }
      ]
    },
    {
      "cell_type": "code",
      "source": [
        "from sklearn.preprocessing import MinMaxScaler\n",
        "\n",
        "mms = MinMaxScaler()\n",
        "X_norm = mms.fit_transform(X)"
      ],
      "metadata": {
        "id": "2nWDPBG6IGnC"
      },
      "execution_count": null,
      "outputs": []
    },
    {
      "cell_type": "code",
      "source": [
        "model = Sequential([\n",
        "    Dense(3, input_shape=(2,), activation='linear'),\n",
        "    Dense(1, activation='linear')\n",
        "])\n",
        "\n",
        "model.summary()"
      ],
      "metadata": {
        "colab": {
          "base_uri": "https://localhost:8080/"
        },
        "id": "MBMHLKaBMlGt",
        "outputId": "f05ce760-bda4-42b0-f7e9-d3ed28f24b0e"
      },
      "execution_count": null,
      "outputs": [
        {
          "output_type": "stream",
          "name": "stdout",
          "text": [
            "Model: \"sequential_6\"\n",
            "_________________________________________________________________\n",
            " Layer (type)                Output Shape              Param #   \n",
            "=================================================================\n",
            " dense_7 (Dense)             (None, 3)                 9         \n",
            "                                                                 \n",
            " dense_8 (Dense)             (None, 1)                 4         \n",
            "                                                                 \n",
            "=================================================================\n",
            "Total params: 13\n",
            "Trainable params: 13\n",
            "Non-trainable params: 0\n",
            "_________________________________________________________________\n"
          ]
        }
      ]
    },
    {
      "cell_type": "code",
      "source": [
        "model.compile(optimizer='sgd', loss='mse', metrics='mae')"
      ],
      "metadata": {
        "id": "tMCCQZ_XTk2z"
      },
      "execution_count": null,
      "outputs": []
    },
    {
      "cell_type": "code",
      "source": [
        "model.fit(X_norm, y, epochs=200)"
      ],
      "metadata": {
        "id": "p6LjZhbJTvc1"
      },
      "execution_count": null,
      "outputs": []
    },
    {
      "cell_type": "code",
      "source": [
        "X_test = [[1, 8],\n",
        "          [6, 9]]\n",
        "\n",
        "X_test = mms.transform(X_test)\n",
        "model.predict(np.array(X_test))"
      ],
      "metadata": {
        "colab": {
          "base_uri": "https://localhost:8080/"
        },
        "id": "UK0pvvNBT5ST",
        "outputId": "0f202c48-3b8f-4b14-d294-fd615ce27090"
      },
      "execution_count": null,
      "outputs": [
        {
          "output_type": "stream",
          "name": "stderr",
          "text": [
            "WARNING:tensorflow:6 out of the last 7 calls to <function Model.make_predict_function.<locals>.predict_function at 0x7f3b4629d120> triggered tf.function retracing. Tracing is expensive and the excessive number of tracings could be due to (1) creating @tf.function repeatedly in a loop, (2) passing tensors with different shapes, (3) passing Python objects instead of tensors. For (1), please define your @tf.function outside of the loop. For (2), @tf.function has reduce_retracing=True option that can avoid unnecessary retracing. For (3), please refer to https://www.tensorflow.org/guide/function#controlling_retracing and https://www.tensorflow.org/api_docs/python/tf/function for  more details.\n"
          ]
        },
        {
          "output_type": "stream",
          "name": "stdout",
          "text": [
            "1/1 [==============================] - 0s 58ms/step\n"
          ]
        },
        {
          "output_type": "execute_result",
          "data": {
            "text/plain": [
              "array([[ 9.000168],\n",
              "       [14.999064]], dtype=float32)"
            ]
          },
          "metadata": {},
          "execution_count": 65
        }
      ]
    },
    {
      "cell_type": "markdown",
      "source": [
        "# Классификация MNIST"
      ],
      "metadata": {
        "id": "n4bYg6hswAq5"
      }
    },
    {
      "cell_type": "code",
      "source": [
        "from keras.datasets import mnist\n",
        "(X_train, y_train) , (X_test, y_test) = mnist.load_data()\n",
        "\n",
        "X_train.shape, X_test.shape"
      ],
      "metadata": {
        "colab": {
          "base_uri": "https://localhost:8080/"
        },
        "id": "zZBSUtuOwIsz",
        "outputId": "76d67d9f-c521-4d8c-ce5e-1ddf1481260b"
      },
      "execution_count": null,
      "outputs": [
        {
          "output_type": "execute_result",
          "data": {
            "text/plain": [
              "((60000, 28, 28), (10000, 28, 28))"
            ]
          },
          "metadata": {},
          "execution_count": 66
        }
      ]
    },
    {
      "cell_type": "code",
      "source": [
        "X_train[0].shape"
      ],
      "metadata": {
        "colab": {
          "base_uri": "https://localhost:8080/"
        },
        "id": "fPNG7xQmwa0y",
        "outputId": "9ebd29d7-d087-4ea7-ff3e-a3879f2afac7"
      },
      "execution_count": null,
      "outputs": [
        {
          "output_type": "execute_result",
          "data": {
            "text/plain": [
              "(28, 28)"
            ]
          },
          "metadata": {},
          "execution_count": 67
        }
      ]
    },
    {
      "cell_type": "code",
      "source": [
        "idxs = np.where((y_train == 0) | (y_train == 1))\n",
        "y_train = y_train[idxs]\n",
        "X_train = X_train[idxs]\n",
        "X_train.shape, y_train.shape"
      ],
      "metadata": {
        "colab": {
          "base_uri": "https://localhost:8080/"
        },
        "id": "9JgjtDRpwfP6",
        "outputId": "a9e0d2b1-8d22-4272-82f3-b8b4aa6e3448"
      },
      "execution_count": null,
      "outputs": [
        {
          "output_type": "execute_result",
          "data": {
            "text/plain": [
              "((12665, 28, 28), (12665,))"
            ]
          },
          "metadata": {},
          "execution_count": 68
        }
      ]
    },
    {
      "cell_type": "code",
      "source": [
        "idxs = np.where((y_test == 0) | (y_test == 1))\n",
        "y_test = y_test[idxs]\n",
        "X_test = X_test[idxs]\n",
        "X_test.shape, y_test.shape"
      ],
      "metadata": {
        "colab": {
          "base_uri": "https://localhost:8080/"
        },
        "id": "X1jUeJZ2xF1S",
        "outputId": "7a78e688-3ee1-4e32-bac2-8dea71ae376d"
      },
      "execution_count": null,
      "outputs": [
        {
          "output_type": "execute_result",
          "data": {
            "text/plain": [
              "((2115, 28, 28), (2115,))"
            ]
          },
          "metadata": {},
          "execution_count": 69
        }
      ]
    },
    {
      "cell_type": "code",
      "source": [
        "import matplotlib.pyplot as plt\n",
        "\n",
        "fig, ax = plt.subplots(1, 5, figsize=(15, 10))\n",
        "\n",
        "for i in range(5):\n",
        "    ax[i].imshow(X_train[i], cmap='gray')\n",
        "    ax[i].axis('off')\n",
        "\n",
        "y_train[:5]    "
      ],
      "metadata": {
        "colab": {
          "base_uri": "https://localhost:8080/",
          "height": 254
        },
        "id": "Wp_fExDBxWOb",
        "outputId": "ec4d78ea-d68f-456c-bb4b-bd46b48ae152"
      },
      "execution_count": null,
      "outputs": [
        {
          "output_type": "execute_result",
          "data": {
            "text/plain": [
              "array([0, 1, 1, 1, 1], dtype=uint8)"
            ]
          },
          "metadata": {},
          "execution_count": 70
        },
        {
          "output_type": "display_data",
          "data": {
            "text/plain": [
              "<Figure size 1500x1000 with 5 Axes>"
            ],
            "image/png": "[encoded data removed]"
          },
          "metadata": {}
        }
      ]
    },
    {
      "cell_type": "code",
      "source": [
        "X_train = X_train / 255.0\n",
        "X_test = X_test / 255.0"
      ],
      "metadata": {
        "id": "svyC5lSx8YbS"
      },
      "execution_count": null,
      "outputs": []
    },
    {
      "cell_type": "code",
      "source": [
        "from keras.utils.np_utils import to_categorical\n",
        "\n",
        "y_train_cat = to_categorical(y_train)\n",
        "y_test_cat = to_categorical(y_test)\n",
        "\n",
        "y_train_cat[:5]"
      ],
      "metadata": {
        "colab": {
          "base_uri": "https://localhost:8080/"
        },
        "id": "QP_DLvS3Hx_m",
        "outputId": "ebe16fa0-ab6b-4b94-9690-8ff24142b90a"
      },
      "execution_count": null,
      "outputs": [
        {
          "output_type": "execute_result",
          "data": {
            "text/plain": [
              "array([[1., 0.],\n",
              "       [0., 1.],\n",
              "       [0., 1.],\n",
              "       [0., 1.],\n",
              "       [0., 1.]], dtype=float32)"
            ]
          },
          "metadata": {},
          "execution_count": 72
        }
      ]
    },
    {
      "cell_type": "code",
      "source": [
        "# добавляем новую ось\n",
        "X_train[..., np.newaxis].shape"
      ],
      "metadata": {
        "colab": {
          "base_uri": "https://localhost:8080/"
        },
        "id": "OhYyavgrIVZt",
        "outputId": "38f2c28d-5904-4a3c-e73b-8659fbb464ed"
      },
      "execution_count": null,
      "outputs": [
        {
          "output_type": "execute_result",
          "data": {
            "text/plain": [
              "(12665, 28, 28, 1)"
            ]
          },
          "metadata": {},
          "execution_count": 73
        }
      ]
    },
    {
      "cell_type": "code",
      "source": [
        "import tensorflow as tf\n",
        "\n",
        "X_train_resized = tf.image.resize(X_train[..., np.newaxis], (6, 6))[..., 0]\n",
        "X_test_resized = tf.image.resize(X_test[..., np.newaxis], (6, 6))[..., 0]\n",
        "\n",
        "fig, ax = plt.subplots(1, 5, figsize=(15, 10))\n",
        "\n",
        "for i in range(5):\n",
        "    ax[i].imshow(X_train_resized[i], cmap='gray')\n",
        "    ax[i].axis('off')\n",
        "\n",
        "y_train[:5]  "
      ],
      "metadata": {
        "colab": {
          "base_uri": "https://localhost:8080/",
          "height": 254
        },
        "id": "eAhYAXIeI8fi",
        "outputId": "4928abd2-3d31-42ac-9b63-e040498d7f5f"
      },
      "execution_count": null,
      "outputs": [
        {
          "output_type": "execute_result",
          "data": {
            "text/plain": [
              "array([0, 1, 1, 1, 1], dtype=uint8)"
            ]
          },
          "metadata": {},
          "execution_count": 74
        },
        {
          "output_type": "display_data",
          "data": {
            "text/plain": [
              "<Figure size 1500x1000 with 5 Axes>"
            ],
            "image/png": "[encoded data removed]"
          },
          "metadata": {}
        }
      ]
    },
    {
      "cell_type": "code",
      "source": [
        "from keras.layers import Flatten\n",
        "\n",
        "model = Sequential([\n",
        "    Flatten(input_shape=(6, 6)),\n",
        "    Dense(2, activation='sigmoid')\n",
        "])\n",
        "\n",
        "model.summary()"
      ],
      "metadata": {
        "colab": {
          "base_uri": "https://localhost:8080/"
        },
        "id": "mVGP9OQXN4UC",
        "outputId": "7765f201-f344-4b4e-bba0-bae2393cf0c6"
      },
      "execution_count": null,
      "outputs": [
        {
          "output_type": "stream",
          "name": "stdout",
          "text": [
            "Model: \"sequential_7\"\n",
            "_________________________________________________________________\n",
            " Layer (type)                Output Shape              Param #   \n",
            "=================================================================\n",
            " flatten_1 (Flatten)         (None, 36)                0         \n",
            "                                                                 \n",
            " dense_9 (Dense)             (None, 2)                 74        \n",
            "                                                                 \n",
            "=================================================================\n",
            "Total params: 74\n",
            "Trainable params: 74\n",
            "Non-trainable params: 0\n",
            "_________________________________________________________________\n"
          ]
        }
      ]
    },
    {
      "cell_type": "code",
      "source": [
        "model.compile(optimizer='sgd', loss='binary_crossentropy', metrics='accuracy')"
      ],
      "metadata": {
        "id": "UW6ap7oNPDp7"
      },
      "execution_count": null,
      "outputs": []
    },
    {
      "cell_type": "code",
      "source": [
        "model.fit(X_train_resized, y_train_cat, epochs=5)"
      ],
      "metadata": {
        "colab": {
          "base_uri": "https://localhost:8080/"
        },
        "id": "f-0AYqo0Pk8n",
        "outputId": "06f9f19c-c2b1-45e9-baea-3d55ec720b1a"
      },
      "execution_count": null,
      "outputs": [
        {
          "output_type": "stream",
          "name": "stdout",
          "text": [
            "Epoch 1/5\n",
            "396/396 [==============================] - 1s 2ms/step - loss: 0.6101 - accuracy: 0.7010\n",
            "Epoch 2/5\n",
            "396/396 [==============================] - 1s 2ms/step - loss: 0.4732 - accuracy: 0.9213\n",
            "Epoch 3/5\n",
            "396/396 [==============================] - 1s 3ms/step - loss: 0.3887 - accuracy: 0.9541\n",
            "Epoch 4/5\n",
            "396/396 [==============================] - 2s 5ms/step - loss: 0.3326 - accuracy: 0.9664\n",
            "Epoch 5/5\n",
            "396/396 [==============================] - 2s 6ms/step - loss: 0.2929 - accuracy: 0.9713\n"
          ]
        },
        {
          "output_type": "execute_result",
          "data": {
            "text/plain": [
              "<keras.callbacks.History at 0x7f3b573ab2b0>"
            ]
          },
          "metadata": {},
          "execution_count": 77
        }
      ]
    },
    {
      "cell_type": "code",
      "source": [
        "print(model.predict(X_test_resized[:1]))\n",
        "print(y_test[:1])"
      ],
      "metadata": {
        "colab": {
          "base_uri": "https://localhost:8080/"
        },
        "id": "rUvTsZI0PtEY",
        "outputId": "b7fa4850-47ae-4f98-bd25-0ec802867c0d"
      },
      "execution_count": null,
      "outputs": [
        {
          "output_type": "stream",
          "name": "stdout",
          "text": [
            "1/1 [==============================] - 0s 55ms/step\n",
            "[[0.22914873 0.79296905]]\n",
            "[1]\n"
          ]
        }
      ]
    },
    {
      "cell_type": "code",
      "source": [
        "prediction = model.predict(X_test_resized[:1])\n",
        "prediction.argmax()"
      ],
      "metadata": {
        "colab": {
          "base_uri": "https://localhost:8080/"
        },
        "id": "tSmdxPkjQHSP",
        "outputId": "dde29bd3-a3e1-4479-af88-578a5b14a958"
      },
      "execution_count": null,
      "outputs": [
        {
          "output_type": "stream",
          "name": "stdout",
          "text": [
            "1/1 [==============================] - 0s 27ms/step\n"
          ]
        },
        {
          "output_type": "execute_result",
          "data": {
            "text/plain": [
              "1"
            ]
          },
          "metadata": {},
          "execution_count": 79
        }
      ]
    }
  ]
}